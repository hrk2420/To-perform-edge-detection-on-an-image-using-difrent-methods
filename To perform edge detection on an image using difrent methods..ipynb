{
 "cells": [
  {
   "cell_type": "code",
   "execution_count": 4,
   "id": "ee6e1532",
   "metadata": {},
   "outputs": [],
   "source": [
    "######To perform edge detection on an image using difrent methods.\n",
    "from PIL import Image\n",
    "from PIL import ImageEnhance"
   ]
  },
  {
   "cell_type": "code",
   "execution_count": 5,
   "id": "051eabb4",
   "metadata": {},
   "outputs": [],
   "source": [
    "# open the image file\n",
    "image = Image.open(\"hem.jpeg\")"
   ]
  },
  {
   "cell_type": "code",
   "execution_count": 6,
   "id": "3c6f0d8e",
   "metadata": {},
   "outputs": [],
   "source": [
    "#show image in image view\n",
    "image.show()"
   ]
  },
  {
   "cell_type": "code",
   "execution_count": 10,
   "id": "b21dfe29",
   "metadata": {},
   "outputs": [],
   "source": [
    "#enchance brightness\n",
    "curr_bri =ImageEnhance.Brightness(image) \n",
    "new_bri = 2.5"
   ]
  },
  {
   "cell_type": "code",
   "execution_count": 11,
   "id": "b3ccd7c9",
   "metadata": {},
   "outputs": [],
   "source": [
    "#brightness enchnces by a factor of 2.5\n",
    "img_brightened =curr_bri.enhance(new_bri)"
   ]
  },
  {
   "cell_type": "code",
   "execution_count": 12,
   "id": "944586ea",
   "metadata": {},
   "outputs": [],
   "source": [
    "# show updated image in image viewer\n",
    "img_brightened.show()"
   ]
  },
  {
   "cell_type": "code",
   "execution_count": 13,
   "id": "06d48b17",
   "metadata": {},
   "outputs": [],
   "source": [
    "#enchncing the color\n",
    "curr_col =ImageEnhance.Color(image)\n",
    "new_col =2.5\n",
    "#colored level enchnced by factor of 2.5\n",
    "img_colored = curr_col.enhance(new_col)\n",
    "\n",
    "img_colored.show()"
   ]
  },
  {
   "cell_type": "code",
   "execution_count": 14,
   "id": "864414be",
   "metadata": {},
   "outputs": [],
   "source": [
    "#contrast the image\n",
    "curr_con =ImageEnhance.Contrast(image)\n",
    "new_con =0.3"
   ]
  },
  {
   "cell_type": "code",
   "execution_count": 15,
   "id": "1b11c5dd",
   "metadata": {},
   "outputs": [],
   "source": [
    "#colored level enchnced by factor of 2.5\n",
    "img_contrast = curr_con.enhance(new_con)\n",
    "\n",
    "img_contrast.show()"
   ]
  },
  {
   "cell_type": "code",
   "execution_count": 16,
   "id": "4339be67",
   "metadata": {},
   "outputs": [],
   "source": [
    "#sharping the image\n",
    "curr_sharp =ImageEnhance.Contrast(image)\n",
    "new_sharp =8.3\n"
   ]
  },
  {
   "cell_type": "code",
   "execution_count": 17,
   "id": "66546886",
   "metadata": {},
   "outputs": [],
   "source": [
    "\n",
    "#colored level enchnced by factor of 8.5\n",
    "img_sharped = curr_sharp.enhance(new_sharp)\n",
    "\n",
    "img_sharped.show()\n"
   ]
  },
  {
   "cell_type": "code",
   "execution_count": 18,
   "id": "a6e7c53e",
   "metadata": {},
   "outputs": [],
   "source": [
    "from PIL import Image\n",
    "from PIL import ImageFilter"
   ]
  },
  {
   "cell_type": "code",
   "execution_count": 19,
   "id": "b3839575",
   "metadata": {},
   "outputs": [],
   "source": [
    "# create image object\n",
    "im1 = Image.open('hem.jpeg')\n",
    "im1.show()"
   ]
  },
  {
   "cell_type": "code",
   "execution_count": 20,
   "id": "32a737f0",
   "metadata": {},
   "outputs": [],
   "source": [
    "#apply blur\n",
    "im2 =im1.filter(ImageFilter.BLUR())\n",
    "\n",
    "im2.show()"
   ]
  },
  {
   "cell_type": "code",
   "execution_count": 21,
   "id": "1f6cee31",
   "metadata": {},
   "outputs": [],
   "source": [
    "#apply the contour filter\n",
    "im3 =im1.filter(ImageFilter.CONTOUR)\n",
    "im3.show()"
   ]
  },
  {
   "cell_type": "code",
   "execution_count": 22,
   "id": "19b76d8b",
   "metadata": {},
   "outputs": [],
   "source": [
    "#apply the emboss filter\n",
    "im4 =im1.filter(ImageFilter.EMBOSS)\n",
    "im4.show()"
   ]
  },
  {
   "cell_type": "code",
   "execution_count": 23,
   "id": "67093ee9",
   "metadata": {},
   "outputs": [],
   "source": [
    "#Edge Enhance\n",
    "im5 =im1.filter(ImageFilter.EDGE_ENHANCE)\n",
    "im5.show()"
   ]
  },
  {
   "cell_type": "code",
   "execution_count": 24,
   "id": "62a20028",
   "metadata": {},
   "outputs": [],
   "source": [
    "#Edge enhance more\n",
    "im6 =im1.filter(ImageFilter.EDGE_ENHANCE_MORE)\n",
    "im6.show()"
   ]
  },
  {
   "cell_type": "code",
   "execution_count": null,
   "id": "6cbbfcbe",
   "metadata": {},
   "outputs": [],
   "source": []
  }
 ],
 "metadata": {
  "kernelspec": {
   "display_name": "Python 3 (ipykernel)",
   "language": "python",
   "name": "python3"
  },
  "language_info": {
   "codemirror_mode": {
    "name": "ipython",
    "version": 3
   },
   "file_extension": ".py",
   "mimetype": "text/x-python",
   "name": "python",
   "nbconvert_exporter": "python",
   "pygments_lexer": "ipython3",
   "version": "3.9.7"
  }
 },
 "nbformat": 4,
 "nbformat_minor": 5
}
